{
  "cells": [
    {
      "cell_type": "markdown",
      "metadata": {
        "colab_type": "text",
        "id": "view-in-github"
      },
      "source": [
        "<a href=\"https://colab.research.google.com/github/hootloot/Bioinformatics-Streamlit-App/blob/main/testingtesting.ipynb\" target=\"_parent\"><img src=\"https://colab.research.google.com/assets/colab-badge.svg\" alt=\"Open In Colab\"/></a>"
      ]
    },
    {
      "cell_type": "markdown",
      "metadata": {
        "id": "M7wiOqfoSEKq"
      },
      "source": [
        "# **PART 1 (GETTING BIODATA FROM CHEMBL DATABASE)**"
      ]
    },
    {
      "cell_type": "code",
      "execution_count": 3,
      "metadata": {
        "id": "dAucigjadOBL"
      },
      "outputs": [
        {
          "name": "stdout",
          "output_type": "stream",
          "text": [
            "^C\n",
            "Requirement already satisfied: chembl_webresource_client in c:\\users\\jmdan\\appdata\\local\\programs\\python\\python310\\lib\\site-packages (0.10.8)\n",
            "Requirement already satisfied: requests-cache~=0.7.0 in c:\\users\\jmdan\\appdata\\local\\programs\\python\\python310\\lib\\site-packages (from chembl_webresource_client) (0.7.5)\n",
            "Requirement already satisfied: requests>=2.18.4 in c:\\users\\jmdan\\appdata\\local\\programs\\python\\python310\\lib\\site-packages (from chembl_webresource_client) (2.26.0)\n",
            "Requirement already satisfied: urllib3 in c:\\users\\jmdan\\appdata\\local\\programs\\python\\python310\\lib\\site-packages (from chembl_webresource_client) (1.26.6)\n",
            "Requirement already satisfied: easydict in c:\\users\\jmdan\\appdata\\local\\programs\\python\\python310\\lib\\site-packages (from chembl_webresource_client) (1.9)\n",
            "Requirement already satisfied: idna<4,>=2.5 in c:\\users\\jmdan\\appdata\\local\\programs\\python\\python310\\lib\\site-packages (from requests>=2.18.4->chembl_webresource_client) (3.2)\n",
            "Requirement already satisfied: certifi>=2017.4.17 in c:\\users\\jmdan\\appdata\\local\\programs\\python\\python310\\lib\\site-packages (from requests>=2.18.4->chembl_webresource_client) (2021.5.30)\n",
            "Requirement already satisfied: charset-normalizer~=2.0.0 in c:\\users\\jmdan\\appdata\\local\\programs\\python\\python310\\lib\\site-packages (from requests>=2.18.4->chembl_webresource_client) (2.0.4)\n",
            "Requirement already satisfied: attrs<22.0,>=21.2 in c:\\users\\jmdan\\appdata\\local\\programs\\python\\python310\\lib\\site-packages (from requests-cache~=0.7.0->chembl_webresource_client) (21.2.0)\n",
            "Requirement already satisfied: pyyaml>=5.4 in c:\\users\\jmdan\\appdata\\local\\programs\\python\\python310\\lib\\site-packages (from requests-cache~=0.7.0->chembl_webresource_client) (5.4.1)\n",
            "Requirement already satisfied: itsdangerous>=2.0.1 in c:\\users\\jmdan\\appdata\\local\\programs\\python\\python310\\lib\\site-packages (from requests-cache~=0.7.0->chembl_webresource_client) (2.0.1)\n",
            "Requirement already satisfied: url-normalize<2.0,>=1.4 in c:\\users\\jmdan\\appdata\\local\\programs\\python\\python310\\lib\\site-packages (from requests-cache~=0.7.0->chembl_webresource_client) (1.4.3)\n",
            "Requirement already satisfied: six in c:\\users\\jmdan\\appdata\\local\\programs\\python\\python310\\lib\\site-packages (from url-normalize<2.0,>=1.4->requests-cache~=0.7.0->chembl_webresource_client) (1.16.0)\n"
          ]
        },
        {
          "name": "stderr",
          "output_type": "stream",
          "text": [
            "WARNING: You are using pip version 21.2.3; however, version 22.1.2 is available.\n",
            "You should consider upgrading via the 'C:\\Users\\jmdan\\AppData\\Local\\Programs\\Python\\Python310\\python.exe -m pip install --upgrade pip' command.\n"
          ]
        },
        {
          "name": "stdout",
          "output_type": "stream",
          "text": [
            "Requirement already satisfied: pandas in c:\\users\\jmdan\\appdata\\local\\programs\\python\\python310\\lib\\site-packages (1.3.4)\n",
            "Requirement already satisfied: python-dateutil>=2.7.3 in c:\\users\\jmdan\\appdata\\local\\programs\\python\\python310\\lib\\site-packages (from pandas) (2.8.2)\n",
            "Requirement already satisfied: numpy>=1.21.0 in c:\\users\\jmdan\\appdata\\local\\programs\\python\\python310\\lib\\site-packages (from pandas) (1.21.4)\n",
            "Requirement already satisfied: pytz>=2017.3 in c:\\users\\jmdan\\appdata\\local\\programs\\python\\python310\\lib\\site-packages (from pandas) (2021.3)\n",
            "Requirement already satisfied: six>=1.5 in c:\\users\\jmdan\\appdata\\local\\programs\\python\\python310\\lib\\site-packages (from python-dateutil>=2.7.3->pandas) (1.16.0)\n"
          ]
        },
        {
          "name": "stderr",
          "output_type": "stream",
          "text": [
            "WARNING: You are using pip version 21.2.3; however, version 22.1.2 is available.\n",
            "You should consider upgrading via the 'C:\\Users\\jmdan\\AppData\\Local\\Programs\\Python\\Python310\\python.exe -m pip install --upgrade pip' command.\n"
          ]
        }
      ],
      "source": [
        "! pip uninstall chembl_webresource_client\n",
        "! pip install chembl_webresource_client\n",
        "! pip install pandas"
      ]
    },
    {
      "cell_type": "code",
      "execution_count": null,
      "metadata": {
        "id": "CY_DuPKdMsrv"
      },
      "outputs": [],
      "source": [
        "import pandas as pd\n",
        "from chembl_webresource_client.new_client import new_client\n",
        "\n",
        "# Target search for acetylocholinesterase\n",
        "target = new_client.target\n",
        "target_query = target.search('acetylcholinesterase')\n",
        "targets = pd.DataFrame.from_dict(target_query)\n",
        "targets\n",
        "\n",
        "#pics the 1st option on the chembl search, therefore these results should be present to whoever is using the software\n",
        "#the target protein data should be up to the user\n",
        "selected_target = targets.target_chembl_id[0]\n",
        "selected_target\n",
        "\n",
        "activity = new_client.activity\n",
        "res = activity.filter(target_chembl_id=selected_target).filter(standard_type=\"IC50\")\n",
        "\n",
        "df = pd.DataFrame.from_dict(res)\n",
        "\n",
        "#df\n",
        "\n",
        "df.to_csv('acetylcholinesterase_01_bioactivity_data_raw.csv', index=False)\n",
        "\n",
        "\n",
        "df2 = df[df.standard_value.notna()]\n",
        "df2 = df2[df.canonical_smiles.notna()]\n",
        "#df2\n",
        "\n",
        "len(df2.canonical_smiles.unique())\n",
        "\n",
        "df2_nr = df2.drop_duplicates(['canonical_smiles'])\n",
        "df2_nr\n",
        "\n",
        "\n",
        "selection = ['molecule_chembl_id','canonical_smiles','standard_value']\n",
        "df3 = df2_nr[selection]\n",
        "#df3\n",
        "\n",
        "df3.to_csv('acetylcholinesterase_02_bioactivity_data_preprocessed.csv', index=False)\n",
        "\n",
        "\n",
        "df4 = pd.read_csv('acetylcholinesterase_02_bioactivity_data_preprocessed.csv')\n",
        "\n",
        "bioactivity_threshold = []\n",
        "for i in df4.standard_value:\n",
        "  if float(i) >= 10000:\n",
        "    bioactivity_threshold.append(\"inactive\")\n",
        "  elif float(i) <= 1000:\n",
        "    bioactivity_threshold.append(\"active\")\n",
        "  else:\n",
        "    bioactivity_threshold.append(\"intermediate\")\n",
        "\n",
        "bioactivity_class = pd.Series(bioactivity_threshold, name='class')\n",
        "df5 = pd.concat([df4, bioactivity_class], axis=1)\n",
        "#df5\n",
        "\n",
        "\n",
        "df5.to_csv('acetylcholinesterase_03_bioactivity_data_curated.csv', index=False)\n",
        "\n",
        "\n"
      ]
    },
    {
      "cell_type": "code",
      "execution_count": null,
      "metadata": {
        "id": "rmLkFADrM8pK"
      },
      "outputs": [],
      "source": [
        "! zip acetylcholinesterase.zip *.csv\n",
        "\n",
        "! ls -l"
      ]
    },
    {
      "cell_type": "markdown",
      "metadata": {
        "id": "RnAfDa6-STIS"
      },
      "source": [
        "# **PART 2 (VISUAL DATA ANAYLSIS)**"
      ]
    },
    {
      "cell_type": "code",
      "execution_count": null,
      "metadata": {
        "id": "TOsKjoJ8O_Nf"
      },
      "outputs": [],
      "source": [
        "! wget https://repo.anaconda.com/miniconda/Miniconda3-py37_4.8.2-Linux-x86_64.sh\n",
        "! chmod +x Miniconda3-py37_4.8.2-Linux-x86_64.sh\n",
        "! bash ./Miniconda3-py37_4.8.2-Linux-x86_64.sh -b -f -p /usr/local\n",
        "! conda install -c rdkit rdkit -y"
      ]
    },
    {
      "cell_type": "code",
      "execution_count": null,
      "metadata": {
        "id": "bQctOS2YNP99"
      },
      "outputs": [],
      "source": [
        "import sys\n",
        "\n",
        "#opens\n",
        "sys.path.append('/usr/local/lib/python3.7/site-packages/')\n",
        "#! wget https://raw.githubusercontent.com/dataprofessor/data/master/acetylcholinesterase_03_bioactivity_data_curated.csv\n",
        "\n",
        "import pandas as pd\n",
        "\n",
        "df = pd.read_csv('acetylcholinesterase_03_bioactivity_data_curated.csv')\n",
        "#df\n",
        "\n",
        "df_no_smiles = df.drop(columns='canonical_smiles')\n",
        "\n",
        "smiles = []\n",
        "\n",
        "for i in df.canonical_smiles.tolist():\n",
        "  cpd = str(i).split('.')\n",
        "  cpd_longest = max(cpd, key = len)\n",
        "  smiles.append(cpd_longest)\n",
        "\n",
        "smiles = pd.Series(smiles, name = 'canonical_smiles')\n",
        "\n",
        "df_clean_smiles = pd.concat([df_no_smiles,smiles], axis=1)\n",
        "#df_clean_smiles\n",
        "\n",
        "import numpy as np\n",
        "from rdkit import Chem\n",
        "from rdkit.Chem import Descriptors, Lipinski\n",
        "\n",
        "# Inspired by: https://codeocean.com/explore/capsules?query=tag:data-curation\n",
        "\n",
        "def lipinski(smiles, verbose=False):\n",
        "\n",
        "    moldata= []\n",
        "    for elem in smiles:\n",
        "        mol=Chem.MolFromSmiles(elem) \n",
        "        moldata.append(mol)\n",
        "       \n",
        "    baseData= np.arange(1,1)\n",
        "    i=0  \n",
        "    for mol in moldata:        \n",
        "       \n",
        "        desc_MolWt = Descriptors.MolWt(mol)\n",
        "        desc_MolLogP = Descriptors.MolLogP(mol)\n",
        "        desc_NumHDonors = Lipinski.NumHDonors(mol)\n",
        "        desc_NumHAcceptors = Lipinski.NumHAcceptors(mol)\n",
        "           \n",
        "        row = np.array([desc_MolWt,\n",
        "                        desc_MolLogP,\n",
        "                        desc_NumHDonors,\n",
        "                        desc_NumHAcceptors])   \n",
        "    \n",
        "        if(i==0):\n",
        "            baseData=row\n",
        "        else:\n",
        "            baseData=np.vstack([baseData, row])\n",
        "        i=i+1      \n",
        "    \n",
        "    columnNames=[\"MW\",\"LogP\",\"NumHDonors\",\"NumHAcceptors\"]   \n",
        "    descriptors = pd.DataFrame(data=baseData,columns=columnNames)\n",
        "    \n",
        "    return descriptors\n",
        "\n",
        "df_lipinski = lipinski(df_clean_smiles.canonical_smiles)\n",
        "#df_lipinski\n",
        "\n",
        "\n",
        "#compare two dataframes\n",
        "#df_lipinski\n",
        "#df\n",
        "#below combined\n",
        "\n",
        "df_combined = pd.concat([df,df_lipinski], axis=1)\n",
        "#df_combined\n",
        "\n",
        "\"\"\"### **Convert IC50 to pIC50**\n",
        "To allow **IC50** data to be more uniformly distributed, we will convert **IC50** to the negative logarithmic scale which is essentially **-log10(IC50)**.\n",
        "\n",
        "This custom function pIC50() will accept a DataFrame as input and will:\n",
        "* Take the IC50 values from the ``standard_value`` column and converts it from nM to M by multiplying the value by 10$^{-9}$\n",
        "* Take the molar value and apply -log10\n",
        "* Delete the ``standard_value`` column and create a new ``pIC50`` column\n",
        "\"\"\"\n",
        "\n",
        "# https://github.com/chaninlab/estrogen-receptor-alpha-qsar/blob/master/02_ER_alpha_RO5.ipynb\n",
        "\n",
        "import numpy as np\n",
        "\n",
        "def pIC50(input):\n",
        "    pIC50 = []\n",
        "\n",
        "    for i in input['standard_value_norm']:\n",
        "        molar = i*(10**-9) # Converts nM to M\n",
        "        pIC50.append(-np.log10(molar))\n",
        "\n",
        "    input['pIC50'] = pIC50\n",
        "    x = input.drop('standard_value_norm', 1)\n",
        "        \n",
        "    return x\n",
        "\n",
        "df_combined.standard_value.describe()\n",
        "\n",
        "-np.log10( (10**-9)* 100000000 )\n",
        "\n",
        "-np.log10( (10**-9)* 10000000000 )\n",
        "\n",
        "def norm_value(input):\n",
        "    norm = []\n",
        "\n",
        "    for i in input['standard_value']:\n",
        "        if i > 100000000:\n",
        "          i = 100000000\n",
        "        norm.append(i)\n",
        "\n",
        "    input['standard_value_norm'] = norm\n",
        "    x = input.drop('standard_value', 1)\n",
        "        \n",
        "    return x\n",
        "\n",
        "\n",
        "df_norm = norm_value(df_combined)\n",
        "#df_norm\n",
        "\n",
        "df_norm.standard_value_norm.describe()\n",
        "\n",
        "df_final = pIC50(df_norm)\n",
        "#df_final\n",
        "\n",
        "df_final.pIC50.describe()\n",
        "\n",
        "df_final.to_csv('acetylcholinesterase_04_bioactivity_data_3class_pIC50.csv')\n",
        "\n",
        "df_2class = df_final[df_final['class'] != 'intermediate']\n",
        "#df_2class\n",
        "\n",
        "df_2class.to_csv('acetylcholinesterase_05_bioactivity_data_2class_pIC50.csv')\n",
        "\n",
        "\n",
        "#graphing\n",
        "\n",
        "import seaborn as sns\n",
        "sns.set(style='ticks')\n",
        "import matplotlib.pyplot as plt\n",
        "\n",
        "\n",
        "plt.figure(figsize=(5.5, 5.5))\n",
        "\n",
        "sns.countplot(x='class', data=df_2class, edgecolor='black')\n",
        "\n",
        "plt.xlabel('Bioactivity class', fontsize=14, fontweight='bold')\n",
        "plt.ylabel('Frequency', fontsize=14, fontweight='bold')\n",
        "\n",
        "plt.savefig('plot_bioactivity_class.png')\n",
        "\n",
        "\"\"\"### **Scatter plot of MW versus LogP**\n",
        "\n",
        "It can be seen that the 2 bioactivity classes are spanning similar chemical spaces as evident by the scatter plot of MW vs LogP.\n",
        "\"\"\"\n",
        "\n",
        "plt.figure(figsize=(5.5, 5.5))\n",
        "\n",
        "sns.scatterplot(x='MW', y='LogP', data=df_2class, hue='class', size='pIC50', edgecolor='black', alpha=0.7)\n",
        "\n",
        "plt.xlabel('MW', fontsize=14, fontweight='bold')\n",
        "plt.ylabel('LogP', fontsize=14, fontweight='bold')\n",
        "plt.legend(bbox_to_anchor=(1.05, 1), loc=2, borderaxespad=0)\n",
        "plt.savefig('plot_MW_vs_LogP.png')\n",
        "\n",
        "\"\"\"### **Box plots**\n",
        "\n",
        "#### **pIC50 value**\n",
        "\"\"\"\n",
        "\n",
        "plt.figure(figsize=(5.5, 5.5))\n",
        "\n",
        "sns.boxplot(x = 'class', y = 'pIC50', data = df_2class)\n",
        "\n",
        "plt.xlabel('Bioactivity class', fontsize=14, fontweight='bold')\n",
        "plt.ylabel('pIC50 value', fontsize=14, fontweight='bold')\n",
        "\n",
        "plt.savefig('plot_ic50.png')\n",
        "\n",
        "\"\"\"**Statistical analysis | Mann-Whitney U Test**\"\"\"\n",
        "\n",
        "def mannwhitney(descriptor, verbose=False):\n",
        "  # https://machinelearningmastery.com/nonparametric-statistical-significance-tests-in-python/\n",
        "  from numpy.random import seed\n",
        "  from numpy.random import randn\n",
        "  from scipy.stats import mannwhitneyu\n",
        "\n",
        "# seed the random number generator\n",
        "  seed(1)\n",
        "\n",
        "# actives and inactives\n",
        "  selection = [descriptor, 'class']\n",
        "  df = df_2class[selection]\n",
        "  active = df[df['class'] == 'active']\n",
        "  active = active[descriptor]\n",
        "\n",
        "  selection = [descriptor, 'class']\n",
        "  df = df_2class[selection]\n",
        "  inactive = df[df['class'] == 'inactive']\n",
        "  inactive = inactive[descriptor]\n",
        "\n",
        "# compare samples\n",
        "  stat, p = mannwhitneyu(active, inactive)\n",
        "  #print('Statistics=%.3f, p=%.3f' % (stat, p))\n",
        "\n",
        "# interpret\n",
        "  alpha = 0.05\n",
        "  if p > alpha:\n",
        "    interpretation = 'Same distribution (fail to reject H0)'\n",
        "  else:\n",
        "    interpretation = 'Different distribution (reject H0)'\n",
        "  \n",
        "  results = pd.DataFrame({'Descriptor':descriptor,\n",
        "                          'Statistics':stat,\n",
        "                          'p':p,\n",
        "                          'alpha':alpha,\n",
        "                          'Interpretation':interpretation}, index=[0])\n",
        "  filename = 'mannwhitneyu_' + descriptor + '.csv'\n",
        "  results.to_csv(filename)\n",
        "\n",
        "  return results\n",
        "\n",
        "mannwhitney('pIC50')\n",
        "\n",
        "\"\"\"#### **MW**\"\"\"\n",
        "\n",
        "plt.figure(figsize=(5.5, 5.5))\n",
        "\n",
        "sns.boxplot(x = 'class', y = 'MW', data = df_2class)\n",
        "\n",
        "plt.xlabel('Bioactivity class', fontsize=14, fontweight='bold')\n",
        "plt.ylabel('MW', fontsize=14, fontweight='bold')\n",
        "\n",
        "plt.savefig('plot_MW.png')\n",
        "\n",
        "mannwhitney('MW')\n",
        "\n",
        "\"\"\"#### **LogP**\"\"\"\n",
        "\n",
        "plt.figure(figsize=(5.5, 5.5))\n",
        "\n",
        "sns.boxplot(x = 'class', y = 'LogP', data = df_2class)\n",
        "\n",
        "plt.xlabel('Bioactivity class', fontsize=14, fontweight='bold')\n",
        "plt.ylabel('LogP', fontsize=14, fontweight='bold')\n",
        "\n",
        "plt.savefig('plot_LogP.png')\n",
        "\n",
        "\"\"\"**Statistical analysis | Mann-Whitney U Test**\"\"\"\n",
        "\n",
        "mannwhitney('LogP')\n",
        "\n",
        "\"\"\"#### **NumHDonors**\"\"\"\n",
        "\n",
        "plt.figure(figsize=(5.5, 5.5))\n",
        "\n",
        "sns.boxplot(x = 'class', y = 'NumHDonors', data = df_2class)\n",
        "\n",
        "plt.xlabel('Bioactivity class', fontsize=14, fontweight='bold')\n",
        "plt.ylabel('NumHDonors', fontsize=14, fontweight='bold')\n",
        "\n",
        "plt.savefig('plot_NumHDonors.png')\n",
        "\n",
        "\"\"\"**Statistical analysis | Mann-Whitney U Test**\"\"\"\n",
        "\n",
        "mannwhitney('NumHDonors')\n",
        "\n",
        "\"\"\"#### **NumHAcceptors**\"\"\"\n",
        "\n",
        "plt.figure(figsize=(5.5, 5.5))\n",
        "\n",
        "sns.boxplot(x = 'class', y = 'NumHAcceptors', data = df_2class)\n",
        "\n",
        "plt.xlabel('Bioactivity class', fontsize=14, fontweight='bold')\n",
        "plt.ylabel('NumHAcceptors', fontsize=14, fontweight='bold')\n",
        "\n",
        "plt.savefig('plot_NumHAcceptors.png')\n",
        "\n",
        "mannwhitney('NumHAcceptors')\n",
        "\n",
        "print('this process is done')\n"
      ]
    },
    {
      "cell_type": "code",
      "execution_count": null,
      "metadata": {
        "id": "877gJxl8NXmt"
      },
      "outputs": [],
      "source": [
        "#saves as zip\n",
        "! zip -r results.zip . -i *.csv *.pdf"
      ]
    },
    {
      "cell_type": "markdown",
      "metadata": {
        "id": "qgiHxe2FSeBL"
      },
      "source": [
        "# **PART 3 (SETTING UP MODEL)**"
      ]
    },
    {
      "cell_type": "code",
      "execution_count": null,
      "metadata": {
        "id": "27DXiklxSl66"
      },
      "outputs": [],
      "source": [
        "! wget https://github.com/dataprofessor/bioinformatics/raw/master/padel.zip\n",
        "! wget https://github.com/dataprofessor/bioinformatics/raw/master/padel.sh\n",
        "! unzip padel.zip"
      ]
    },
    {
      "cell_type": "code",
      "execution_count": null,
      "metadata": {
        "id": "RRzb-6RdTK_N"
      },
      "outputs": [],
      "source": [
        "#! wget https://raw.githubusercontent.com/dataprofessor/data/master/acetylcholinesterase_04_bioactivity_data_3class_pIC50.csv\n",
        "\n",
        "import pandas as pd\n",
        "\n",
        "df3 = pd.read_csv('acetylcholinesterase_04_bioactivity_data_3class_pIC50.csv')\n",
        "\n",
        "#df3\n",
        "\n",
        "selection = ['canonical_smiles','molecule_chembl_id']\n",
        "df3_selection = df3[selection]\n",
        "df3_selection.to_csv('molecule.smi', sep='\\t', index=False, header=False)"
      ]
    },
    {
      "cell_type": "code",
      "execution_count": null,
      "metadata": {
        "id": "faYUaSL2TT3Y"
      },
      "outputs": [],
      "source": [
        "! cat molecule.smi | head -5\n",
        "! cat molecule.smi | wc -l"
      ]
    },
    {
      "cell_type": "code",
      "execution_count": null,
      "metadata": {
        "id": "WKZeRrUHTXtJ"
      },
      "outputs": [],
      "source": [
        "\"\"\"## **Calculate fingerprint descriptors**\n",
        "\n",
        "### **Calculate PaDEL descriptors**\n",
        "\"\"\"\n",
        "\n",
        "! cat padel.sh\n",
        "! bash padel.sh\n",
        "! ls -l"
      ]
    },
    {
      "cell_type": "code",
      "execution_count": null,
      "metadata": {
        "id": "B7BBfDf7SBIs"
      },
      "outputs": [],
      "source": [
        "\"\"\"## **Preparing the X and Y Data Matrices**\n",
        "\n",
        "### **X data matrix**\n",
        "\"\"\"\n",
        "\n",
        "df3_X = pd.read_csv('descriptors_output.csv')\n",
        "#df3_X\n",
        "\n",
        "df3_X = df3_X.drop(columns=['Name'])\n",
        "#df3_X\n",
        "\n",
        "\"\"\"## **Y variable**\n",
        "\n",
        "### **Convert IC50 to pIC50**\n",
        "\"\"\"\n",
        "\n",
        "df3_Y = df3['pIC50']\n",
        "#df3_Y\n",
        "\n",
        "\"\"\"## **Combining X and Y variable**\"\"\"\n",
        "\n",
        "dataset3 = pd.concat([df3_X,df3_Y], axis=1)\n",
        "#dataset3\n",
        "\n",
        "dataset3.to_csv('acetylcholinesterase_06_bioactivity_data_3class_pIC50_pubchem_fp.csv', index=False)\n",
        "\n"
      ]
    },
    {
      "cell_type": "markdown",
      "metadata": {
        "id": "D1B3vWu0Tg3h"
      },
      "source": [
        "# **PART 4 (CREATING MODEL)**"
      ]
    },
    {
      "cell_type": "code",
      "execution_count": null,
      "metadata": {
        "id": "KL-mwAMETmTG"
      },
      "outputs": [],
      "source": [
        "import pandas as pd\n",
        "\n",
        "dataset_url = 'https://github.com/dataprofessor/data/raw/master/acetylcholinesterase_06_bioactivity_data_3class_pIC50_pubchem_fp.csv'\n",
        "dataset = pd.read_csv(dataset_url)\n",
        "X = dataset.drop(['pIC50'], axis=1)\n",
        "Y = dataset.iloc[:,-1]\n",
        "from sklearn.feature_selection import VarianceThreshold\n",
        "\n",
        "def remove_low_variance(input_data, threshold=0.1):\n",
        "    selection = VarianceThreshold(threshold)\n",
        "    selection.fit(input_data)\n",
        "    return input_data[input_data.columns[selection.get_support(indices=True)]]\n",
        "\n",
        "X = remove_low_variance(X, threshold=0.1)\n",
        "X.to_csv('descriptor_list.csv', index = False)\n",
        "\n",
        "from sklearn.ensemble import RandomForestRegressor\n",
        "from sklearn.metrics import mean_squared_error, r2_score\n",
        "\n",
        "model = RandomForestRegressor(n_estimators=500, random_state=42)\n",
        "model.fit(X, Y)\n",
        "r2 = model.score(X, Y)\n",
        "\n",
        "Y_pred = model.predict(X)\n",
        "\n",
        "print('Mean squared error (MSE): %.2f'\n",
        "      % mean_squared_error(Y, Y_pred))\n",
        "print('Coefficient of determination (R^2): %.2f'\n",
        "      % r2_score(Y, Y_pred))\n",
        "\n",
        "import matplotlib.pyplot as plt\n",
        "import numpy as np\n",
        "\n",
        "plt.figure(figsize=(5,5))\n",
        "plt.scatter(x=Y, y=Y_pred, c=\"#7CAE00\", alpha=0.3)\n",
        "\n",
        "# Add trendline\n",
        "# https://stackoverflow.com/questions/26447191/how-to-add-trendline-in-python-matplotlib-dot-scatter-graphs\n",
        "z = np.polyfit(Y, Y_pred, 1)\n",
        "p = np.poly1d(z)\n",
        "\n",
        "plt.plot(Y,p(Y),\"#F8766D\")\n",
        "plt.ylabel('Predicted pIC50')\n",
        "plt.xlabel('Experimental pIC50')\n",
        "\n",
        "plt.savefig('model_scatter_plot.png')\n",
        "\n",
        "\n",
        "import pickle \n",
        "pickle.dump(model, open('acetylcholinesterase_model.pkl', 'wb'))"
      ]
    },
    {
      "cell_type": "markdown",
      "metadata": {
        "id": "nt6NOATeUhUu"
      },
      "source": [
        "# **PART 5 (COMPARING MODEL PERFORMACE)**"
      ]
    },
    {
      "cell_type": "code",
      "execution_count": null,
      "metadata": {
        "id": "02ZRbyxuUebl"
      },
      "outputs": [],
      "source": [
        "! pip uninstall lazypredict\n",
        "! pip install lazypredict   \n",
        "! pip uninstall sckit-learn -y\n",
        "! pip install scikit-learn==0.23.1\n",
        "#! wget https://github.com/dataprofessor/data/raw/master/acetylcholinesterase_06_bioactivity_data_3class_pIC50_pubchem_fp.csv"
      ]
    },
    {
      "cell_type": "code",
      "execution_count": null,
      "metadata": {
        "id": "DsCCYka2Ub3Z"
      },
      "outputs": [],
      "source": [
        "import pandas as pd\n",
        "import seaborn as sns\n",
        "from sklearn.model_selection import train_test_split\n",
        "import lazypredict\n",
        "from lazypredict.Supervised import LazyRegressor\n",
        "\n",
        "\"\"\"## **2. Load the data set**\n",
        "\n",
        "\"\"\"\n",
        "\n",
        "#! wget https://github.com/dataprofessor/data/raw/master/acetylcholinesterase_06_bioactivity_data_3class_pIC50_pubchem_fp.csv\n",
        "\n",
        "df = pd.read_csv('acetylcholinesterase_06_bioactivity_data_3class_pIC50_pubchem_fp.csv')\n",
        "\n",
        "X = df.drop('pIC50', axis=1)\n",
        "Y = df.pIC50\n",
        "\n",
        "\"\"\"## **3. Data pre-processing**\"\"\"\n",
        "\n",
        "# Examine X dimension\n",
        "#X.shape\n",
        "\n",
        "# Remove low variance features\n",
        "from sklearn.feature_selection import VarianceThreshold\n",
        "selection = VarianceThreshold(threshold=(.8 * (1 - .8)))    \n",
        "X = selection.fit_transform(X)\n",
        "#X.shape\n",
        "\n",
        "# Perform data splitting using 80/20 ratio\n",
        "X_train, X_test, Y_train, Y_test = train_test_split(X, Y, test_size=0.2, random_state=42)\n",
        "\n",
        "\"\"\"## **4. Compare ML algorithms**\"\"\"\n",
        "\n",
        "# Defines and builds the lazyclassifier\n",
        "clf = LazyRegressor(verbose=0,ignore_warnings=True, custom_metric=None)\n",
        "models_train,predictions_train = clf.fit(X_train, X_train, Y_train, Y_train)\n",
        "models_test,predictions_test = clf.fit(X_train, X_test, Y_train, Y_test)"
      ]
    },
    {
      "cell_type": "markdown",
      "metadata": {
        "id": "V2Scz4AMbjen"
      },
      "source": [
        "The Data is visualized here"
      ]
    },
    {
      "cell_type": "code",
      "execution_count": null,
      "metadata": {
        "id": "7qS7AJsfbcYJ"
      },
      "outputs": [],
      "source": [
        "# Bar plot of R-squared values\n",
        "import matplotlib.pyplot as plt\n",
        "import seaborn as sns\n",
        "\n",
        "#train[\"R-Squared\"] = [0 if i < 0 else i for i in train.iloc[:,0] ]\n",
        "\n",
        "plt.figure(figsize=(5, 10))\n",
        "sns.set_theme(style=\"whitegrid\")\n",
        "ax = sns.barplot(y=predictions_train.index, x=\"R-Squared\", data=predictions_train)\n",
        "ax.set(xlim=(0, 1))\n",
        "plt.savefig('r_squared.png')"
      ]
    },
    {
      "cell_type": "code",
      "execution_count": null,
      "metadata": {
        "id": "vJypkf8KbgbA"
      },
      "outputs": [],
      "source": [
        "# Bar plot of RMSE values\n",
        "plt.figure(figsize=(5, 10))\n",
        "sns.set_theme(style=\"whitegrid\")\n",
        "ax = sns.barplot(y=predictions_train.index, x=\"RMSE\", data=predictions_train)\n",
        "ax.set(xlim=(0, 10))\n",
        "plt.savefig('RMSE_model.png')"
      ]
    },
    {
      "cell_type": "code",
      "execution_count": null,
      "metadata": {
        "id": "kSvx8ryobh-1"
      },
      "outputs": [],
      "source": [
        "# Bar plot of calculation time\n",
        "plt.figure(figsize=(5, 10))\n",
        "sns.set_theme(style=\"whitegrid\")\n",
        "ax = sns.barplot(y=predictions_train.index, x=\"Time Taken\", data=predictions_train)\n",
        "ax.set(xlim=(0, 10))\n",
        "plt.savefig('timetaken.png')\n",
        "print('done')"
      ]
    },
    {
      "cell_type": "markdown",
      "metadata": {
        "id": "o1c1n7G3cMGn"
      },
      "source": [
        "**PART 6 (STREAMLIT)**"
      ]
    },
    {
      "cell_type": "code",
      "execution_count": null,
      "metadata": {
        "id": "WjQ_sZBjcm7C"
      },
      "outputs": [],
      "source": [
        "print('done')"
      ]
    }
  ],
  "metadata": {
    "colab": {
      "authorship_tag": "ABX9TyO7SoKiolW8aLN8RNOyqXS9",
      "collapsed_sections": [],
      "include_colab_link": true,
      "name": "testingtesting.ipynb",
      "provenance": []
    },
    "kernelspec": {
      "display_name": "Python 3.8.6 64-bit",
      "language": "python",
      "name": "python3"
    },
    "language_info": {
      "codemirror_mode": {
        "name": "ipython",
        "version": 3
      },
      "file_extension": ".py",
      "mimetype": "text/x-python",
      "name": "python",
      "nbconvert_exporter": "python",
      "pygments_lexer": "ipython3",
      "version": "3.8.6"
    },
    "vscode": {
      "interpreter": {
        "hash": "95fc1d4de124f2bf4ead400d020290dba7d77d3d34051bbe65ef7060c2dfab16"
      }
    }
  },
  "nbformat": 4,
  "nbformat_minor": 0
}
